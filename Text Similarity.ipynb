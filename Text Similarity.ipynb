{
 "cells": [
  {
   "cell_type": "markdown",
   "id": "02807950",
   "metadata": {},
   "source": [
    "# Text Similarity\n",
    "This Notebook focuses on calculating the similarity between 2 texts. We will be using a CSV file comprising of 2 independent features, viz. `text1` & `text2`.\n",
    "Since there's no dependent variable, we have 2 options : Either treat the problem statement as an unsupervised problem and make clusters, or perform some feature engineering and treat the probem as a regression problem in supervised learning.\n",
    "We would go with the supervised learning approach."
   ]
  },
  {
   "cell_type": "code",
   "execution_count": 1,
   "id": "b5b943bc",
   "metadata": {},
   "outputs": [],
   "source": [
    "# Importing necessary libraries\n",
    "import numpy as np\n",
    "import pandas as pd\n",
    "\n",
    "import spacy\n",
    "nlp = spacy.load(\"en_core_web_lg\") # We would require `en_core_web_lg`, the trained pipeline for the English language"
   ]
  },
  {
   "cell_type": "code",
   "execution_count": 2,
   "id": "453c748d",
   "metadata": {},
   "outputs": [
    {
     "data": {
      "text/html": [
       "<div>\n",
       "<style scoped>\n",
       "    .dataframe tbody tr th:only-of-type {\n",
       "        vertical-align: middle;\n",
       "    }\n",
       "\n",
       "    .dataframe tbody tr th {\n",
       "        vertical-align: top;\n",
       "    }\n",
       "\n",
       "    .dataframe thead th {\n",
       "        text-align: right;\n",
       "    }\n",
       "</style>\n",
       "<table border=\"1\" class=\"dataframe\">\n",
       "  <thead>\n",
       "    <tr style=\"text-align: right;\">\n",
       "      <th></th>\n",
       "      <th>text1</th>\n",
       "      <th>text2</th>\n",
       "    </tr>\n",
       "  </thead>\n",
       "  <tbody>\n",
       "    <tr>\n",
       "      <th>0</th>\n",
       "      <td>broadband challenges tv viewing the number of ...</td>\n",
       "      <td>gardener wins double in glasgow britain s jaso...</td>\n",
       "    </tr>\n",
       "    <tr>\n",
       "      <th>1</th>\n",
       "      <td>rap boss arrested over drug find rap mogul mar...</td>\n",
       "      <td>amnesty chief laments war failure the lack of ...</td>\n",
       "    </tr>\n",
       "    <tr>\n",
       "      <th>2</th>\n",
       "      <td>player burn-out worries robinson england coach...</td>\n",
       "      <td>hanks greeted at wintry premiere hollywood sta...</td>\n",
       "    </tr>\n",
       "    <tr>\n",
       "      <th>3</th>\n",
       "      <td>hearts of oak 3-2 cotonsport hearts of oak set...</td>\n",
       "      <td>redford s vision of sundance despite sporting ...</td>\n",
       "    </tr>\n",
       "    <tr>\n",
       "      <th>4</th>\n",
       "      <td>sir paul rocks super bowl crowds sir paul mcca...</td>\n",
       "      <td>mauresmo opens with victory in la amelie maure...</td>\n",
       "    </tr>\n",
       "  </tbody>\n",
       "</table>\n",
       "</div>"
      ],
      "text/plain": [
       "                                               text1  \\\n",
       "0  broadband challenges tv viewing the number of ...   \n",
       "1  rap boss arrested over drug find rap mogul mar...   \n",
       "2  player burn-out worries robinson england coach...   \n",
       "3  hearts of oak 3-2 cotonsport hearts of oak set...   \n",
       "4  sir paul rocks super bowl crowds sir paul mcca...   \n",
       "\n",
       "                                               text2  \n",
       "0  gardener wins double in glasgow britain s jaso...  \n",
       "1  amnesty chief laments war failure the lack of ...  \n",
       "2  hanks greeted at wintry premiere hollywood sta...  \n",
       "3  redford s vision of sundance despite sporting ...  \n",
       "4  mauresmo opens with victory in la amelie maure...  "
      ]
     },
     "execution_count": 2,
     "metadata": {},
     "output_type": "execute_result"
    }
   ],
   "source": [
    "# Reading the CSV file into 'df'\n",
    "df = pd.read_csv(\"Precily_Text_Similarity.csv\")\n",
    "df.head()"
   ]
  },
  {
   "cell_type": "code",
   "execution_count": 3,
   "id": "377c527a",
   "metadata": {},
   "outputs": [
    {
     "data": {
      "text/plain": [
       "(3000, 2)"
      ]
     },
     "execution_count": 3,
     "metadata": {},
     "output_type": "execute_result"
    }
   ],
   "source": [
    "df.shape"
   ]
  },
  {
   "cell_type": "code",
   "execution_count": 4,
   "id": "3388b13d",
   "metadata": {},
   "outputs": [
    {
     "data": {
      "text/plain": [
       "Index(['text1', 'text2'], dtype='object')"
      ]
     },
     "execution_count": 4,
     "metadata": {},
     "output_type": "execute_result"
    }
   ],
   "source": [
    "cols = df.columns\n",
    "cols"
   ]
  },
  {
   "cell_type": "code",
   "execution_count": 5,
   "id": "971b2f18",
   "metadata": {},
   "outputs": [
    {
     "data": {
      "text/plain": [
       "str"
      ]
     },
     "execution_count": 5,
     "metadata": {},
     "output_type": "execute_result"
    }
   ],
   "source": [
    "type(cols[0])"
   ]
  },
  {
   "cell_type": "markdown",
   "id": "53a5e336",
   "metadata": {},
   "source": [
    "## Finding Similarity\n",
    "- The cells below depict how similarity is calculated for 2 texts utilizing the `en_core_web_lg` pipeline"
   ]
  },
  {
   "cell_type": "code",
   "execution_count": 6,
   "id": "5afaa5e2",
   "metadata": {},
   "outputs": [
    {
     "name": "stdout",
     "output_type": "stream",
     "text": [
      "broadband challenges tv viewing the number of europeans with broadband has exploded over the past 12 months  with the web eating into tv viewing habits  research suggests.  just over 54 million people are hooked up to the net via broadband  up from 34 million a year ago  according to market analysts nielsen/netratings. the total number of people online in europe has broken the 100 million mark. the popularity of the net has meant that many are turning away from tv  say analysts jupiter research. it found that a quarter of web users said they spent less time watching tv in favour of the net  the report by nielsen/netratings found that the number of people with fast internet access had risen by 60% over the past year.  the biggest jump was in italy  where it rose by 120%. britain was close behind  with broadband users almost doubling in a year. the growth has been fuelled by lower prices and a wider choice of always-on  fast-net subscription plans.  twelve months ago high speed internet users made up just over one third of the audience in europe; now they are more than 50% and we expect this number to keep growing   said gabrielle prior  nielsen/netratings analyst.  as the number of high-speed surfers grows  websites will need to adapt  update and enhance their content to retain their visitors and encourage new ones.  the total number of europeans online rose by 12% to 100 million over the past year  the report showed  with the biggest rise in france  italy  britain and germany.  the ability to browse web pages at high speed  download files such as music or films and play online games is changing what people do in their spare time.  a study by analysts jupiter research suggested that broadband was challenging television viewing habits. in homes with broadband  40% said they were spending less time watching tv. the threat to tv was greatest in countries where broadband was on the up  in particular the uk  france and spain  said the report. it said tv companies faced a major long-term threat over the next five years  with broadband predicted to grow from 19% to 37% of households by 2009.  year-on-year we are continuing to see a seismic shift in where  when and how europe s population consume media for information and entertainment and this has big implications for tv  newspaper and radio   said jupiter research analyst olivier beauvillian.\n"
     ]
    }
   ],
   "source": [
    "s1 = nlp(df['text1'][0])\n",
    "s2 = nlp(df['text2'][0])\n",
    "print(s1)"
   ]
  },
  {
   "cell_type": "code",
   "execution_count": 7,
   "id": "5568923b",
   "metadata": {},
   "outputs": [
    {
     "data": {
      "text/plain": [
       "0.9056197797638766"
      ]
     },
     "execution_count": 7,
     "metadata": {},
     "output_type": "execute_result"
    }
   ],
   "source": [
    "# Finding the similarity\n",
    "s1.similarity(s2)"
   ]
  },
  {
   "cell_type": "code",
   "execution_count": 8,
   "id": "fc0022a6",
   "metadata": {},
   "outputs": [
    {
     "data": {
      "text/plain": [
       "[]"
      ]
     },
     "execution_count": 8,
     "metadata": {},
     "output_type": "execute_result"
    }
   ],
   "source": [
    "# Checking if we have any missing values in our dataset\n",
    "features_with_na = [feature for feature in df.columns if df[feature].isnull().sum()>0]\n",
    "features_with_na"
   ]
  },
  {
   "cell_type": "markdown",
   "id": "cc0c7960",
   "metadata": {},
   "source": [
    "## Feature Engineering\n",
    "- We would add an extra feature `similarity score` to the dataset which would contain the similarity scores"
   ]
  },
  {
   "cell_type": "code",
   "execution_count": 10,
   "id": "29df0c63",
   "metadata": {},
   "outputs": [],
   "source": [
    "# Finding the similarity scores for all rows and storing them in the newly formed column\n",
    "for idx in range(3000):\n",
    "    str1 = df['text1'][idx]\n",
    "    str1 = nlp(str1)\n",
    "    str2 = df['text2'][idx]\n",
    "    str2 = nlp(str2)\n",
    "    df.loc[idx, 'similarity score'] = str1.similarity(str2)"
   ]
  },
  {
   "cell_type": "markdown",
   "id": "15acba99",
   "metadata": {},
   "source": [
    "## Training ML Models\n",
    "- Since we are treating this as a supervised learning problem, let's try using the `SVM` & `XGBoost` machine learning algorithms and choose the one which yields best results\n",
    "- We would first have to split the data set into train data and test data\n",
    "- The `similarity score` would be the dependent variable\n",
    "- We would convert the `text1` & `text2` into vectors by performing feature extraction and converting and combining those texts into vectors since SVM & XGBoost require the data to be numerical"
   ]
  },
  {
   "cell_type": "code",
   "execution_count": 12,
   "id": "ffe76be3",
   "metadata": {},
   "outputs": [
    {
     "data": {
      "text/html": [
       "<style>#sk-container-id-1 {color: black;background-color: white;}#sk-container-id-1 pre{padding: 0;}#sk-container-id-1 div.sk-toggleable {background-color: white;}#sk-container-id-1 label.sk-toggleable__label {cursor: pointer;display: block;width: 100%;margin-bottom: 0;padding: 0.3em;box-sizing: border-box;text-align: center;}#sk-container-id-1 label.sk-toggleable__label-arrow:before {content: \"▸\";float: left;margin-right: 0.25em;color: #696969;}#sk-container-id-1 label.sk-toggleable__label-arrow:hover:before {color: black;}#sk-container-id-1 div.sk-estimator:hover label.sk-toggleable__label-arrow:before {color: black;}#sk-container-id-1 div.sk-toggleable__content {max-height: 0;max-width: 0;overflow: hidden;text-align: left;background-color: #f0f8ff;}#sk-container-id-1 div.sk-toggleable__content pre {margin: 0.2em;color: black;border-radius: 0.25em;background-color: #f0f8ff;}#sk-container-id-1 input.sk-toggleable__control:checked~div.sk-toggleable__content {max-height: 200px;max-width: 100%;overflow: auto;}#sk-container-id-1 input.sk-toggleable__control:checked~label.sk-toggleable__label-arrow:before {content: \"▾\";}#sk-container-id-1 div.sk-estimator input.sk-toggleable__control:checked~label.sk-toggleable__label {background-color: #d4ebff;}#sk-container-id-1 div.sk-label input.sk-toggleable__control:checked~label.sk-toggleable__label {background-color: #d4ebff;}#sk-container-id-1 input.sk-hidden--visually {border: 0;clip: rect(1px 1px 1px 1px);clip: rect(1px, 1px, 1px, 1px);height: 1px;margin: -1px;overflow: hidden;padding: 0;position: absolute;width: 1px;}#sk-container-id-1 div.sk-estimator {font-family: monospace;background-color: #f0f8ff;border: 1px dotted black;border-radius: 0.25em;box-sizing: border-box;margin-bottom: 0.5em;}#sk-container-id-1 div.sk-estimator:hover {background-color: #d4ebff;}#sk-container-id-1 div.sk-parallel-item::after {content: \"\";width: 100%;border-bottom: 1px solid gray;flex-grow: 1;}#sk-container-id-1 div.sk-label:hover label.sk-toggleable__label {background-color: #d4ebff;}#sk-container-id-1 div.sk-serial::before {content: \"\";position: absolute;border-left: 1px solid gray;box-sizing: border-box;top: 0;bottom: 0;left: 50%;z-index: 0;}#sk-container-id-1 div.sk-serial {display: flex;flex-direction: column;align-items: center;background-color: white;padding-right: 0.2em;padding-left: 0.2em;position: relative;}#sk-container-id-1 div.sk-item {position: relative;z-index: 1;}#sk-container-id-1 div.sk-parallel {display: flex;align-items: stretch;justify-content: center;background-color: white;position: relative;}#sk-container-id-1 div.sk-item::before, #sk-container-id-1 div.sk-parallel-item::before {content: \"\";position: absolute;border-left: 1px solid gray;box-sizing: border-box;top: 0;bottom: 0;left: 50%;z-index: -1;}#sk-container-id-1 div.sk-parallel-item {display: flex;flex-direction: column;z-index: 1;position: relative;background-color: white;}#sk-container-id-1 div.sk-parallel-item:first-child::after {align-self: flex-end;width: 50%;}#sk-container-id-1 div.sk-parallel-item:last-child::after {align-self: flex-start;width: 50%;}#sk-container-id-1 div.sk-parallel-item:only-child::after {width: 0;}#sk-container-id-1 div.sk-dashed-wrapped {border: 1px dashed gray;margin: 0 0.4em 0.5em 0.4em;box-sizing: border-box;padding-bottom: 0.4em;background-color: white;}#sk-container-id-1 div.sk-label label {font-family: monospace;font-weight: bold;display: inline-block;line-height: 1.2em;}#sk-container-id-1 div.sk-label-container {text-align: center;}#sk-container-id-1 div.sk-container {/* jupyter's `normalize.less` sets `[hidden] { display: none; }` but bootstrap.min.css set `[hidden] { display: none !important; }` so we also need the `!important` here to be able to override the default hidden behavior on the sphinx rendered scikit-learn.org. See: https://github.com/scikit-learn/scikit-learn/issues/21755 */display: inline-block !important;position: relative;}#sk-container-id-1 div.sk-text-repr-fallback {display: none;}</style><div id=\"sk-container-id-1\" class=\"sk-top-container\"><div class=\"sk-text-repr-fallback\"><pre>SVR(kernel=&#x27;linear&#x27;)</pre><b>In a Jupyter environment, please rerun this cell to show the HTML representation or trust the notebook. <br />On GitHub, the HTML representation is unable to render, please try loading this page with nbviewer.org.</b></div><div class=\"sk-container\" hidden><div class=\"sk-item\"><div class=\"sk-estimator sk-toggleable\"><input class=\"sk-toggleable__control sk-hidden--visually\" id=\"sk-estimator-id-1\" type=\"checkbox\" checked><label for=\"sk-estimator-id-1\" class=\"sk-toggleable__label sk-toggleable__label-arrow\">SVR</label><div class=\"sk-toggleable__content\"><pre>SVR(kernel=&#x27;linear&#x27;)</pre></div></div></div></div></div>"
      ],
      "text/plain": [
       "SVR(kernel='linear')"
      ]
     },
     "execution_count": 12,
     "metadata": {},
     "output_type": "execute_result"
    }
   ],
   "source": [
    "# Importing dependencies\n",
    "from sklearn.model_selection import train_test_split\n",
    "from sklearn.feature_extraction.text import TfidfVectorizer\n",
    "from sklearn.svm import SVR\n",
    "# from sklearn.ensemble import RandomForestRegressor\n",
    "\n",
    "# Train-test split\n",
    "traindf, testdf = train_test_split(df, test_size=0.2, random_state=42)\n",
    "\n",
    "vectorizer = TfidfVectorizer()\n",
    "\n",
    "X_train = vectorizer.fit_transform(traindf['text1'] + traindf['text2'])\n",
    "y_train = traindf['similarity score']\n",
    "X_test = vectorizer.transform(testdf['text1'] + testdf['text2'])\n",
    "y_test = testdf['similarity score']\n",
    "\n",
    "# Training the SVM model\n",
    "svm_model = SVR(kernel='linear')\n",
    "svm_model.fit(X_train, y_train)"
   ]
  },
  {
   "cell_type": "code",
   "execution_count": 14,
   "id": "5ed2765f",
   "metadata": {},
   "outputs": [],
   "source": [
    "# Predicting the similarity scores using the SVM model\n",
    "svm_predictions = svm_model.predict(X_test)"
   ]
  },
  {
   "cell_type": "code",
   "execution_count": 15,
   "id": "87f846c5",
   "metadata": {},
   "outputs": [
    {
     "data": {
      "text/plain": [
       "array([0.87404816, 0.89618269, 0.85154542, 0.88178689, 0.87023372,\n",
       "       0.89053894, 0.88395429, 0.89605138, 0.82466519, 0.88578716,\n",
       "       0.88920097, 0.89059203, 0.90165632, 0.88667827, 0.87749108,\n",
       "       0.84843911, 0.91960737, 0.87867569, 0.88421354, 0.89292077,\n",
       "       0.88677809, 0.85445993, 0.89835021, 0.8931667 , 0.84933968,\n",
       "       0.8886955 , 0.88879651, 0.87085866, 0.88537366, 0.82877181,\n",
       "       0.8947034 , 0.87282611, 0.85325428, 0.85381077, 0.88088246,\n",
       "       0.85219758, 0.86331246, 0.81701535, 0.8547805 , 0.85694684,\n",
       "       0.87431252, 0.8620938 , 0.89280346, 0.85637346, 0.88726283,\n",
       "       0.86086683, 0.87142117, 0.85649541, 0.86412691, 0.86678969,\n",
       "       0.89145622, 0.85384307, 0.88013741, 0.87573374, 0.84540528,\n",
       "       0.89421933, 0.86762312, 0.93074408, 0.8591994 , 0.85452262,\n",
       "       0.87142365, 0.86138221, 0.82645866, 0.89940393, 0.87511878,\n",
       "       0.89528946, 0.82786607, 0.86710292, 0.86444457, 0.88306881,\n",
       "       0.89313704, 0.89583092, 0.90378615, 0.8584821 , 0.82685556,\n",
       "       0.87648715, 0.89780911, 0.90639843, 0.86656176, 0.88185422,\n",
       "       0.86719236, 0.86972251, 0.90530709, 0.87505569, 0.82374653,\n",
       "       0.91268559, 0.8912144 , 0.85959007, 0.88740932, 0.86502062,\n",
       "       0.88195012, 0.86527093, 0.87057426, 0.88577901, 0.86338335,\n",
       "       0.84656987, 0.86312869, 0.87647458, 0.89127476, 0.88653115,\n",
       "       0.51511753, 0.86915615, 0.85291975, 0.53378854, 0.91367555,\n",
       "       0.90057285, 0.86305207, 0.87211509, 0.87369132, 0.87473321,\n",
       "       0.86759413, 0.87878025, 0.85603326, 0.88141304, 0.87008727,\n",
       "       0.87915529, 0.86963418, 0.87697679, 0.85858673, 0.88068382,\n",
       "       0.88341568, 0.88514307, 0.87719461, 0.86932812, 0.8117143 ,\n",
       "       0.90464281, 0.86507445, 0.88916121, 0.86785465, 0.86773123,\n",
       "       0.90306315, 0.87201269, 0.84393778, 0.85722962, 0.85641408,\n",
       "       0.88436014, 0.87642015, 0.83676321, 0.82944274, 0.90393819,\n",
       "       0.89873223, 0.92510864, 0.91047969, 0.88195144, 0.89589428,\n",
       "       0.92259164, 0.89755924, 0.86703535, 0.87375878, 0.85488295,\n",
       "       0.86140501, 0.88306629, 0.86709316, 0.85400805, 0.87776315,\n",
       "       0.86881444, 0.88787443, 0.89537177, 0.85086626, 0.89083282,\n",
       "       0.8935746 , 0.82843856, 0.88045005, 0.89254785, 0.84646638,\n",
       "       0.88390138, 0.88139153, 0.90399746, 0.88727158, 0.86296329,\n",
       "       0.89014299, 0.88796451, 0.90325781, 0.83964488, 0.87114945,\n",
       "       0.84421075, 0.86487025, 0.85933512, 0.85139918, 0.90956859,\n",
       "       0.88714912, 0.8705815 , 0.88332247, 0.88325766, 0.86798515,\n",
       "       0.90876284, 0.86712966, 0.90090165, 0.87448821, 0.85745799,\n",
       "       0.85466903, 0.84795836, 0.89442614, 0.84131737, 0.85851097,\n",
       "       0.85342599, 0.87032619, 0.89218015, 0.85064114, 0.86551274,\n",
       "       0.91288956, 0.91136938, 0.8075505 , 0.83553057, 0.87035674,\n",
       "       0.90173528, 0.56418677, 0.87828362, 0.90166929, 0.87935611,\n",
       "       0.86871747, 0.94026194, 0.87790163, 0.90982026, 0.88969287,\n",
       "       0.8767338 , 0.87318637, 0.87488732, 0.89354527, 0.90397815,\n",
       "       0.91028725, 0.87339941, 0.94369862, 0.88320377, 0.83160871,\n",
       "       0.83776347, 0.86835917, 0.89899591, 0.87328115, 0.89091706,\n",
       "       0.88708902, 0.8635471 , 0.89052485, 0.87649445, 0.89730914,\n",
       "       0.83319141, 0.65708267, 0.87832649, 0.8885993 , 0.85601443,\n",
       "       0.91106425, 0.89271635, 0.89660669, 0.90970341, 0.8650893 ,\n",
       "       0.83243915, 0.89760646, 0.89017731, 0.87288699, 0.85584627,\n",
       "       0.89063958, 0.89028464, 0.89398708, 0.87859783, 0.86513432,\n",
       "       0.86211938, 0.82298188, 0.87649094, 0.88662167, 0.87652503,\n",
       "       0.88827964, 0.89064021, 0.89367525, 0.86908004, 0.88655248,\n",
       "       0.86256481, 0.88276544, 0.89424219, 0.85995411, 0.83598185,\n",
       "       0.9089681 , 0.9070801 , 0.91224049, 0.8593206 , 0.87578807,\n",
       "       0.84848415, 0.76964067, 0.91446653, 0.87145595, 0.84293895,\n",
       "       0.89674372, 0.8307347 , 0.86727934, 0.92443798, 0.88472078,\n",
       "       0.89234804, 0.83670835, 0.87080444, 0.88227084, 0.90654794,\n",
       "       0.84663382, 0.85528442, 0.88149528, 0.8726982 , 0.92402381,\n",
       "       0.88519286, 0.86541268, 0.89193756, 0.88613647, 0.8589004 ,\n",
       "       0.87063027, 0.88044496, 0.86786541, 0.80469021, 0.86778118,\n",
       "       0.73275412, 0.8902834 , 0.80312925, 0.90140026, 0.87355901,\n",
       "       0.90990231, 0.89389051, 0.83339449, 0.87255171, 0.81621357,\n",
       "       0.92355654, 0.86881095, 0.86099506, 0.80413749, 0.88899022,\n",
       "       0.89155175, 0.86244848, 0.8523135 , 0.87978541, 0.84774394,\n",
       "       0.84685836, 0.893757  , 0.88967825, 0.87837821, 0.87185593,\n",
       "       0.86259218, 0.87036931, 0.88480987, 0.88392162, 0.89754255,\n",
       "       0.86581802, 0.85713972, 0.88156499, 0.89203061, 0.87400363,\n",
       "       0.89861518, 0.89283798, 0.87141676, 0.89044389, 0.89300965,\n",
       "       0.84739194, 0.8515849 , 0.87098475, 0.67810749, 0.83287959,\n",
       "       0.86989573, 0.86619782, 0.87699216, 0.87946824, 0.79856626,\n",
       "       0.75306698, 0.8716428 , 0.87720373, 0.88691165, 0.90853243,\n",
       "       0.94226222, 0.89216115, 0.90953719, 0.89944345, 0.85954888,\n",
       "       0.88646257, 0.8591052 , 0.87298589, 0.90268468, 0.83183519,\n",
       "       0.87370137, 0.86647216, 0.88081315, 0.88749674, 0.87769299,\n",
       "       0.84953258, 0.85029569, 0.90808631, 0.9297619 , 0.85037028,\n",
       "       0.9013081 , 0.86700377, 0.85482923, 0.91846027, 0.96281363,\n",
       "       0.82046543, 0.8854628 , 0.87679924, 0.8713492 , 0.85800967,\n",
       "       0.90480684, 0.91689638, 0.84714526, 0.85784114, 0.87300899,\n",
       "       0.89182059, 0.85978648, 0.89776112, 0.9005699 , 0.86151218,\n",
       "       0.90294037, 0.87810959, 0.84183278, 0.83255339, 0.91426228,\n",
       "       0.88034926, 0.90469143, 0.86226244, 0.86558547, 0.83681132,\n",
       "       0.87435733, 0.88981358, 0.88182446, 0.86445034, 0.88470416,\n",
       "       0.88367731, 0.89335536, 0.91624042, 0.87029249, 0.63704362,\n",
       "       0.84946992, 0.86744102, 0.85985363, 0.86717944, 0.89523862,\n",
       "       0.87486252, 0.82309763, 0.88244288, 0.8627928 , 0.84272333,\n",
       "       0.9199416 , 0.88415288, 0.88416514, 0.8818829 , 0.63355218,\n",
       "       0.87703996, 0.86792577, 0.87555424, 0.86148028, 0.88735248,\n",
       "       0.9020743 , 0.87759465, 0.89434836, 0.81798748, 0.9163111 ,\n",
       "       0.87861466, 0.89360241, 0.92685784, 0.87769718, 0.85586605,\n",
       "       0.89377539, 0.79729535, 0.86660818, 0.86990062, 0.84563096,\n",
       "       0.91157748, 0.88066769, 0.85688879, 0.88054994, 0.89462043,\n",
       "       0.87634093, 0.86857773, 0.89221324, 0.89697302, 0.86808347,\n",
       "       0.89963159, 0.88760689, 0.88106872, 0.84922733, 0.91258495,\n",
       "       0.64649364, 0.86500001, 0.9149444 , 0.86960626, 0.89150722,\n",
       "       0.84793121, 0.84286146, 0.8674584 , 0.88313536, 0.87839353,\n",
       "       0.87798204, 0.85303217, 0.87296625, 0.87132058, 0.87111823,\n",
       "       0.86216911, 0.91754656, 0.92208946, 0.89299277, 0.86658873,\n",
       "       0.87242667, 0.86824024, 0.93260911, 0.88304244, 0.9143505 ,\n",
       "       0.89526056, 0.91695486, 0.86703528, 0.91152348, 0.90212916,\n",
       "       0.9047662 , 0.65426316, 0.87405252, 0.82197005, 0.84467348,\n",
       "       0.86737633, 0.90134419, 0.85283582, 0.89943324, 0.87189164,\n",
       "       0.87402551, 0.89246482, 0.89020828, 0.90441615, 0.88574397,\n",
       "       0.8939149 , 0.83820157, 0.55628645, 0.89144357, 0.8631259 ,\n",
       "       0.88093063, 0.81888342, 0.86005822, 0.87956484, 0.8636425 ,\n",
       "       0.85226783, 0.84896448, 0.83962894, 0.88468682, 0.86746174,\n",
       "       0.88768441, 0.8726468 , 0.85144344, 0.85302757, 0.84690403,\n",
       "       0.84630111, 0.86040858, 0.87773515, 0.87291801, 0.8864016 ,\n",
       "       0.87378691, 0.9000153 , 0.88940162, 0.90482487, 0.89602708,\n",
       "       0.89046028, 0.84975957, 0.88860198, 0.8838778 , 0.83527053,\n",
       "       0.87510835, 0.85243432, 0.859778  , 0.87613382, 0.90007358,\n",
       "       0.89845152, 0.8501189 , 0.86471877, 0.858664  , 0.91713724,\n",
       "       0.86525052, 0.86476338, 0.91855926, 0.86879581, 0.85883306,\n",
       "       0.86593248, 0.89425663, 0.88494851, 0.83692744, 0.90966689,\n",
       "       0.83839614, 0.94215636, 0.88594032, 0.83768463, 0.75454491,\n",
       "       0.81683174, 0.84245314, 0.87575842, 0.86374991, 0.88708867,\n",
       "       0.89693497, 0.85052589, 0.86755315, 0.89771808, 0.87790169,\n",
       "       0.84706719, 0.89112284, 0.89465941, 0.8352054 , 0.9337438 ,\n",
       "       0.890368  , 0.84334152, 0.81732492, 0.76751102, 0.88564249,\n",
       "       0.84108461, 0.89393624, 0.86554188, 0.89187287, 0.8822346 ])"
      ]
     },
     "execution_count": 15,
     "metadata": {},
     "output_type": "execute_result"
    }
   ],
   "source": [
    "svm_predictions"
   ]
  },
  {
   "cell_type": "code",
   "execution_count": 17,
   "id": "856e06a0",
   "metadata": {},
   "outputs": [
    {
     "name": "stdout",
     "output_type": "stream",
     "text": [
      "Mean Squared Error : 0.00371981079113558\n",
      "Mean Absolute Error : 0.051563040367998046\n",
      "R Squared : 0.19225607489514007\n"
     ]
    }
   ],
   "source": [
    "# Evaluating the SVM Model using basic model evaluation metrics\n",
    "from sklearn.metrics import mean_squared_error, mean_absolute_error, r2_score\n",
    "\n",
    "mse = mean_squared_error(y_test, svm_predictions)\n",
    "mae = mean_absolute_error(y_test, svm_predictions)\n",
    "r_squared = r2_score(y_test, svm_predictions)\n",
    "\n",
    "print(\"Mean Squared Error : {}\".format(mse))\n",
    "print(\"Mean Absolute Error : {}\".format(mae))\n",
    "print(\"R Squared : {}\".format(r_squared))"
   ]
  },
  {
   "cell_type": "markdown",
   "id": "702382df",
   "metadata": {},
   "source": [
    "#### The R2 score, 0.19, suggests that SVM might not be a good option to use in our case. We need to check out the XGBoost model now"
   ]
  },
  {
   "cell_type": "code",
   "execution_count": 20,
   "id": "908d46d8",
   "metadata": {},
   "outputs": [],
   "source": [
    "# Importing xgboost\n",
    "import xgboost as xgb\n",
    "\n",
    "# Training and predicting our model\n",
    "xgbmodel = xgb.XGBRegressor()\n",
    "xgbmodel.fit(X_train, y_train)\n",
    "xgb_pred = xgbmodel.predict(X_test)"
   ]
  },
  {
   "cell_type": "code",
   "execution_count": 21,
   "id": "d7b215c0",
   "metadata": {},
   "outputs": [
    {
     "name": "stdout",
     "output_type": "stream",
     "text": [
      "Mean Squared Error : 0.0018006245234264847\n",
      "Mean Absolute Error : 0.027701822648441333\n",
      "R Squared : 0.6090006718463856\n"
     ]
    }
   ],
   "source": [
    "# Model Evaluation\n",
    "mse = mean_squared_error(y_test, xgb_pred)\n",
    "mae = mean_absolute_error(y_test, xgb_pred)\n",
    "r2 = r2_score(y_test, xgb_pred)\n",
    "\n",
    "print(\"Mean Squared Error : {}\".format(mse))\n",
    "print(\"Mean Absolute Error : {}\".format(mae))\n",
    "print(\"R Squared : {}\".format(r2))"
   ]
  },
  {
   "cell_type": "markdown",
   "id": "64ae7b65",
   "metadata": {},
   "source": [
    "#### R2 score, 0.6 (much higher than 0.19) suggests that using XGBoost might be a better option to use "
   ]
  },
  {
   "cell_type": "code",
   "execution_count": 31,
   "id": "898f0624",
   "metadata": {},
   "outputs": [],
   "source": [
    "# Saving the trained model in the same directory for future use\n",
    "xgbmodel.save_model('xgbmodel.model')"
   ]
  },
  {
   "cell_type": "markdown",
   "id": "b28b4908",
   "metadata": {},
   "source": [
    "### What Next?\n",
    "- Now that we have saved our model, we can head to building our Flask app for a development environment.\n",
    "- We will have an `app.py` flask application and the `index.html` template to be rendered\n",
    "- This notebook won't be needed anymore and can be referred to as a technical documentation as well, even though a short 1 pager report would be provided."
   ]
  }
 ],
 "metadata": {
  "kernelspec": {
   "display_name": "Python 3 (ipykernel)",
   "language": "python",
   "name": "python3"
  },
  "language_info": {
   "codemirror_mode": {
    "name": "ipython",
    "version": 3
   },
   "file_extension": ".py",
   "mimetype": "text/x-python",
   "name": "python",
   "nbconvert_exporter": "python",
   "pygments_lexer": "ipython3",
   "version": "3.10.5"
  }
 },
 "nbformat": 4,
 "nbformat_minor": 5
}
